{
 "cells": [
  {
   "cell_type": "code",
   "execution_count": 91,
   "id": "10e4b668",
   "metadata": {},
   "outputs": [],
   "source": [
    "import pandas as pd\n",
    "import seaborn as sns"
   ]
  },
  {
   "cell_type": "code",
   "execution_count": 60,
   "id": "8923697b",
   "metadata": {},
   "outputs": [],
   "source": [
    "pd.set_option('display.max_rows', 10)"
   ]
  },
  {
   "cell_type": "code",
   "execution_count": 55,
   "id": "dd4a4dc5",
   "metadata": {
    "scrolled": true
   },
   "outputs": [],
   "source": [
    "forests = pd.read_csv(\"forest_surfaces_romania_en_1990_2019.csv\")"
   ]
  },
  {
   "cell_type": "code",
   "execution_count": 56,
   "id": "71c7509a",
   "metadata": {
    "scrolled": true
   },
   "outputs": [],
   "source": [
    "yearly_values = forests[['Region', 'Year', \"Value\"]]"
   ]
  },
  {
   "cell_type": "code",
   "execution_count": 81,
   "id": "a3a0d658",
   "metadata": {},
   "outputs": [],
   "source": [
    "total_areas = yearly_values.loc[yearly_values['Region'] == \"TOTAL\"]"
   ]
  },
  {
   "cell_type": "code",
   "execution_count": 63,
   "id": "5317cefc",
   "metadata": {},
   "outputs": [
    {
     "name": "stderr",
     "output_type": "stream",
     "text": [
      "C:\\Users\\ehub9_\\AppData\\Local\\Temp\\ipykernel_18868\\3271343584.py:1: SettingWithCopyWarning: \n",
      "A value is trying to be set on a copy of a slice from a DataFrame\n",
      "\n",
      "See the caveats in the documentation: https://pandas.pydata.org/pandas-docs/stable/user_guide/indexing.html#returning-a-view-versus-a-copy\n",
      "  yearly_values.drop_duplicates(inplace=True)\n"
     ]
    }
   ],
   "source": [
    "yearly_values.drop_duplicates(inplace=True)"
   ]
  },
  {
   "cell_type": "code",
   "execution_count": 64,
   "id": "98301453",
   "metadata": {},
   "outputs": [
    {
     "data": {
      "text/html": [
       "<div>\n",
       "<style scoped>\n",
       "    .dataframe tbody tr th:only-of-type {\n",
       "        vertical-align: middle;\n",
       "    }\n",
       "\n",
       "    .dataframe tbody tr th {\n",
       "        vertical-align: top;\n",
       "    }\n",
       "\n",
       "    .dataframe thead th {\n",
       "        text-align: right;\n",
       "    }\n",
       "</style>\n",
       "<table border=\"1\" class=\"dataframe\">\n",
       "  <thead>\n",
       "    <tr style=\"text-align: right;\">\n",
       "      <th></th>\n",
       "      <th>Region</th>\n",
       "      <th>Year</th>\n",
       "      <th>Value</th>\n",
       "    </tr>\n",
       "  </thead>\n",
       "  <tbody>\n",
       "    <tr>\n",
       "      <th>0</th>\n",
       "      <td>TOTAL</td>\n",
       "      <td>1990</td>\n",
       "      <td>6371.0</td>\n",
       "    </tr>\n",
       "    <tr>\n",
       "      <th>1</th>\n",
       "      <td>TOTAL</td>\n",
       "      <td>1991</td>\n",
       "      <td>6367.6</td>\n",
       "    </tr>\n",
       "    <tr>\n",
       "      <th>2</th>\n",
       "      <td>TOTAL</td>\n",
       "      <td>1992</td>\n",
       "      <td>6368.2</td>\n",
       "    </tr>\n",
       "    <tr>\n",
       "      <th>3</th>\n",
       "      <td>TOTAL</td>\n",
       "      <td>1993</td>\n",
       "      <td>6366.9</td>\n",
       "    </tr>\n",
       "    <tr>\n",
       "      <th>4</th>\n",
       "      <td>TOTAL</td>\n",
       "      <td>1994</td>\n",
       "      <td>6369.0</td>\n",
       "    </tr>\n",
       "    <tr>\n",
       "      <th>...</th>\n",
       "      <td>...</td>\n",
       "      <td>...</td>\n",
       "      <td>...</td>\n",
       "    </tr>\n",
       "    <tr>\n",
       "      <th>8106</th>\n",
       "      <td>Timis</td>\n",
       "      <td>2015</td>\n",
       "      <td>1.9</td>\n",
       "    </tr>\n",
       "    <tr>\n",
       "      <th>8107</th>\n",
       "      <td>Timis</td>\n",
       "      <td>2016</td>\n",
       "      <td>1.9</td>\n",
       "    </tr>\n",
       "    <tr>\n",
       "      <th>8108</th>\n",
       "      <td>Timis</td>\n",
       "      <td>2017</td>\n",
       "      <td>1.9</td>\n",
       "    </tr>\n",
       "    <tr>\n",
       "      <th>8109</th>\n",
       "      <td>Timis</td>\n",
       "      <td>2018</td>\n",
       "      <td>1.9</td>\n",
       "    </tr>\n",
       "    <tr>\n",
       "      <th>8110</th>\n",
       "      <td>Timis</td>\n",
       "      <td>2019</td>\n",
       "      <td>2.0</td>\n",
       "    </tr>\n",
       "  </tbody>\n",
       "</table>\n",
       "<p>8018 rows × 3 columns</p>\n",
       "</div>"
      ],
      "text/plain": [
       "     Region  Year   Value\n",
       "0     TOTAL  1990  6371.0\n",
       "1     TOTAL  1991  6367.6\n",
       "2     TOTAL  1992  6368.2\n",
       "3     TOTAL  1993  6366.9\n",
       "4     TOTAL  1994  6369.0\n",
       "...     ...   ...     ...\n",
       "8106  Timis  2015     1.9\n",
       "8107  Timis  2016     1.9\n",
       "8108  Timis  2017     1.9\n",
       "8109  Timis  2018     1.9\n",
       "8110  Timis  2019     2.0\n",
       "\n",
       "[8018 rows x 3 columns]"
      ]
     },
     "execution_count": 64,
     "metadata": {},
     "output_type": "execute_result"
    }
   ],
   "source": [
    "yearly_values"
   ]
  },
  {
   "cell_type": "code",
   "execution_count": 89,
   "id": "ef5ee6e4",
   "metadata": {
    "scrolled": true
   },
   "outputs": [
    {
     "name": "stderr",
     "output_type": "stream",
     "text": [
      "C:\\Users\\ehub9_\\AppData\\Local\\Temp\\ipykernel_18868\\2333978799.py:1: SettingWithCopyWarning: \n",
      "A value is trying to be set on a copy of a slice from a DataFrame\n",
      "\n",
      "See the caveats in the documentation: https://pandas.pydata.org/pandas-docs/stable/user_guide/indexing.html#returning-a-view-versus-a-copy\n",
      "  total_areas.drop_duplicates('Year', inplace=True)\n"
     ]
    }
   ],
   "source": [
    "total_areas.drop_duplicates('Year', inplace=True)"
   ]
  },
  {
   "cell_type": "code",
   "execution_count": 120,
   "id": "97be7dca",
   "metadata": {
    "scrolled": true
   },
   "outputs": [
    {
     "data": {
      "text/html": [
       "<div>\n",
       "<style scoped>\n",
       "    .dataframe tbody tr th:only-of-type {\n",
       "        vertical-align: middle;\n",
       "    }\n",
       "\n",
       "    .dataframe tbody tr th {\n",
       "        vertical-align: top;\n",
       "    }\n",
       "\n",
       "    .dataframe thead th {\n",
       "        text-align: right;\n",
       "    }\n",
       "</style>\n",
       "<table border=\"1\" class=\"dataframe\">\n",
       "  <thead>\n",
       "    <tr style=\"text-align: right;\">\n",
       "      <th></th>\n",
       "      <th>Region</th>\n",
       "      <th>Year</th>\n",
       "      <th>Value</th>\n",
       "    </tr>\n",
       "  </thead>\n",
       "  <tbody>\n",
       "    <tr>\n",
       "      <th>0</th>\n",
       "      <td>TOTAL</td>\n",
       "      <td>1990</td>\n",
       "      <td>6371.0</td>\n",
       "    </tr>\n",
       "    <tr>\n",
       "      <th>1</th>\n",
       "      <td>TOTAL</td>\n",
       "      <td>1991</td>\n",
       "      <td>6367.6</td>\n",
       "    </tr>\n",
       "    <tr>\n",
       "      <th>2</th>\n",
       "      <td>TOTAL</td>\n",
       "      <td>1992</td>\n",
       "      <td>6368.2</td>\n",
       "    </tr>\n",
       "    <tr>\n",
       "      <th>3</th>\n",
       "      <td>TOTAL</td>\n",
       "      <td>1993</td>\n",
       "      <td>6366.9</td>\n",
       "    </tr>\n",
       "    <tr>\n",
       "      <th>4</th>\n",
       "      <td>TOTAL</td>\n",
       "      <td>1994</td>\n",
       "      <td>6369.0</td>\n",
       "    </tr>\n",
       "    <tr>\n",
       "      <th>...</th>\n",
       "      <td>...</td>\n",
       "      <td>...</td>\n",
       "      <td>...</td>\n",
       "    </tr>\n",
       "    <tr>\n",
       "      <th>25</th>\n",
       "      <td>TOTAL</td>\n",
       "      <td>2015</td>\n",
       "      <td>6555.1</td>\n",
       "    </tr>\n",
       "    <tr>\n",
       "      <th>26</th>\n",
       "      <td>TOTAL</td>\n",
       "      <td>2016</td>\n",
       "      <td>6559.0</td>\n",
       "    </tr>\n",
       "    <tr>\n",
       "      <th>27</th>\n",
       "      <td>TOTAL</td>\n",
       "      <td>2017</td>\n",
       "      <td>6564.9</td>\n",
       "    </tr>\n",
       "    <tr>\n",
       "      <th>28</th>\n",
       "      <td>TOTAL</td>\n",
       "      <td>2018</td>\n",
       "      <td>6583.1</td>\n",
       "    </tr>\n",
       "    <tr>\n",
       "      <th>29</th>\n",
       "      <td>TOTAL</td>\n",
       "      <td>2019</td>\n",
       "      <td>6592.2</td>\n",
       "    </tr>\n",
       "  </tbody>\n",
       "</table>\n",
       "<p>30 rows × 3 columns</p>\n",
       "</div>"
      ],
      "text/plain": [
       "   Region  Year   Value\n",
       "0   TOTAL  1990  6371.0\n",
       "1   TOTAL  1991  6367.6\n",
       "2   TOTAL  1992  6368.2\n",
       "3   TOTAL  1993  6366.9\n",
       "4   TOTAL  1994  6369.0\n",
       "..    ...   ...     ...\n",
       "25  TOTAL  2015  6555.1\n",
       "26  TOTAL  2016  6559.0\n",
       "27  TOTAL  2017  6564.9\n",
       "28  TOTAL  2018  6583.1\n",
       "29  TOTAL  2019  6592.2\n",
       "\n",
       "[30 rows x 3 columns]"
      ]
     },
     "execution_count": 120,
     "metadata": {},
     "output_type": "execute_result"
    }
   ],
   "source": [
    "total_areas"
   ]
  },
  {
   "cell_type": "code",
   "execution_count": 98,
   "id": "c15ec88d",
   "metadata": {
    "scrolled": true
   },
   "outputs": [
    {
     "data": {
      "text/plain": [
       "<AxesSubplot:xlabel='Year', ylabel='Value'>"
      ]
     },
     "execution_count": 98,
     "metadata": {},
     "output_type": "execute_result"
    },
    {
     "data": {
      "image/png": "[encoded data removed]",
      "text/plain": [
       "<Figure size 432x288 with 1 Axes>"
      ]
     },
     "metadata": {
      "needs_background": "light"
     },
     "output_type": "display_data"
    }
   ],
   "source": [
    "sns.lineplot(data=total_areas, x=\"Year\", y=\"Value\")"
   ]
  },
  {
   "cell_type": "code",
   "execution_count": null,
   "id": "f57d3f36",
   "metadata": {},
   "outputs": [],
   "source": []
  }
 ],
 "metadata": {
  "kernelspec": {
   "display_name": "Python 3 (ipykernel)",
   "language": "python",
   "name": "python3"
  },
  "language_info": {
   "codemirror_mode": {
    "name": "ipython",
    "version": 3
   },
   "file_extension": ".py",
   "mimetype": "text/x-python",
   "name": "python",
   "nbconvert_exporter": "python",
   "pygments_lexer": "ipython3",
   "version": "3.9.12"
  }
 },
 "nbformat": 4,
 "nbformat_minor": 5
}
